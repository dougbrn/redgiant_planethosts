{
 "cells": [
  {
   "cell_type": "code",
   "execution_count": 1,
   "metadata": {},
   "outputs": [],
   "source": [
    "%matplotlib inline\n",
    "\n",
    "import json\n",
    "import numpy as np\n",
    "import matplotlib.pyplot as plt\n",
    "import glob\n",
    "import pandas as pd\n",
    "from scipy import interpolate\n",
    "from operator import itemgetter\n",
    "import matplotlib as mpl\n",
    "from astropy.stats import sigma_clip\n",
    "\n",
    "plt.style.use('seaborn-white')\n",
    "mpl.rcParams.update({'font.size': 16})"
   ]
  },
  {
   "cell_type": "markdown",
   "metadata": {},
   "source": [
    "## Optimal Lowercut Method: Shifting the Most Precise Lowercut Measurement\n",
    "\n",
    "The lowercut value appears to be key to TAME assigning a good equivalent width measurement for a given line. This notebook uses measurements taken from ~20 stars at 10 different lowercut values to find the best lowercut value per line. Prior to this method, we've been attempting to find the optimal lowercut value as the value where the typical (or average) percent difference with respect to our known values is minimized. We've found that the solution space for these measurements can be broad and certain solutions have large spread. Therefore, this method takes a different approach. We select the optimal lowercut value as the value where the spread in percent different is minimized and apply an offset to get the percent difference of that lowercut value centered on zero."
   ]
  },
  {
   "cell_type": "code",
   "execution_count": null,
   "metadata": {},
   "outputs": [],
   "source": [
    "\n",
    "outputs = glob.glob(\"tame-1.1.0/*14.json\")\n",
    "by_hand = glob.glob(\"tame-1.1.0/*.ew\")\n",
    "lc_range = np.arange(0.95,0.995,0.0001)\n",
    "len_range = 10\n",
    "#Fine Sampling\n",
    "#outputs = glob.glob(\"tame-1.1.0/finesampling.json\")\n",
    "#by_hand = glob.glob(\"tame-1.1.0/col110_5125*.ew\")\n",
    "\n",
    "\n",
    "d = {'JSON File': outputs, 'By-Hand File': by_hand}\n",
    "disp_df = pd.DataFrame(data=d)\n",
    "disp_df"
   ]
  }
 ],
 "metadata": {
  "kernelspec": {
   "display_name": "Python 3",
   "language": "python",
   "name": "python3"
  },
  "language_info": {
   "codemirror_mode": {
    "name": "ipython",
    "version": 3
   },
   "file_extension": ".py",
   "mimetype": "text/x-python",
   "name": "python",
   "nbconvert_exporter": "python",
   "pygments_lexer": "ipython3",
   "version": "3.5.3"
  }
 },
 "nbformat": 4,
 "nbformat_minor": 2
}
