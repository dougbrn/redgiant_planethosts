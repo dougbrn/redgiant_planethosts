{
 "cells": [
  {
   "cell_type": "code",
   "execution_count": 1,
   "metadata": {},
   "outputs": [
    {
     "name": "stderr",
     "output_type": "stream",
     "text": [
      "WARNING: AstropyDeprecationWarning: astropy.extern.six will be removed in 4.0, use the six module directly if it is still needed [astropy.extern.six]\n"
     ]
    }
   ],
   "source": [
    "%matplotlib inline\n",
    "import pyspeckit\n",
    "import numpy as np\n",
    "from astropy import units as u\n",
    "from astropy.io import fits\n",
    "import matplotlib.pyplot as plt\n",
    "from astropy.convolution import convolve, Box1DKernel\n",
    "from c_normalize import c_normalize\n",
    "import ipywidgets as widgets\n",
    "from ipywidgets import interact\n",
    "import glob\n",
    "from IPython.display import display\n",
    "import pandas as pd\n",
    "\n",
    "import warnings\n",
    "warnings.filterwarnings(\"ignore\")\n",
    "\n",
    "\n",
    "plt.style.use(\"seaborn-darkgrid\")\n",
    "\n",
    "# to get widgets to work in jupyter lab: jupyter labextension install @jupyter-widgets/jupyterlab-manager\n",
    "# need to install nodejs as well"
   ]
  },
  {
   "cell_type": "markdown",
   "metadata": {},
   "source": [
    "## Visualizing Fit Performance on the Master Line List\n",
    "With the Fe lines, fit performance was assessed in a manual fashion. With more than double the lines for the master list, it's worthwhile to come up with a more elegant solution for assessing fit performance. It will still need to be manual, but rather than looping through all of the spectra, I'd like to try building a jupyter widget that plugs into our dataset and allows for more interactive inspection of the fit"
   ]
  },
  {
   "cell_type": "code",
   "execution_count": 2,
   "metadata": {},
   "outputs": [],
   "source": [
    "# Widgets\n",
    "\n",
    "file_loc = \"../pydata/dupont_ph_ctrl/inputs/\"\n",
    "files = glob.glob(f\"{file_loc}*wavsoln.fits\")\n",
    "files = [file.split(\"/\")[-1]for file in files]\n",
    "\n",
    "f_drop = widgets.Dropdown(\n",
    "    options=files,\n",
    "    value=files[0],\n",
    "    description='File:',\n",
    "    disabled=False,\n",
    ")\n",
    "line_list_df = pd.read_csv(\"master_line_list.csv\")\n",
    "line_list = [f'{species} {np.round(wav,3)}' for species, wav in zip(line_list_df['Species'],line_list_df['Wavelength'])]\n",
    "l_drop = widgets.Dropdown(\n",
    "    options=line_list,\n",
    "    value='C I 5052.167',\n",
    "    description='Line:',\n",
    "    disabled=False,\n",
    ")\n",
    "\n",
    "mf_drop = widgets.Dropdown(\n",
    "    options=['1','2','3'],\n",
    "    value='1',\n",
    "    description='Num. fits:',\n",
    "    disabled=False,\n",
    ")\n",
    "\n",
    "left_reg = widgets.Text(\n",
    "    value='0.3',\n",
    "    placeholder='Type something',\n",
    "    description=f'Left Region:',\n",
    "    disabled=False\n",
    ")\n",
    "\n",
    "right_reg = widgets.Text(\n",
    "    value='0.3',\n",
    "    placeholder='Type something',\n",
    "    description=f'Right Region:',\n",
    "    disabled=False\n",
    ")\n",
    "\n",
    "fit_text = []\n",
    "for i in range(3):\n",
    "    fit_group = []\n",
    "    fit_group.append(widgets.Text(\n",
    "    value='-0.3',\n",
    "    placeholder='Type something',\n",
    "    description=f'Amp {i+1}:',\n",
    "    disabled=False\n",
    "))\n",
    "    \n",
    "    fit_group.append(widgets.Text(\n",
    "    value='0',\n",
    "    placeholder='Type something',\n",
    "    description=f'Offset {i+1}:',\n",
    "    disabled=False\n",
    "))\n",
    "\n",
    "    \n",
    "    fit_group.append(widgets.Text(\n",
    "    value='0.15',\n",
    "    placeholder='Type something',\n",
    "    description=f'Width {i+1}:',\n",
    "    disabled=False\n",
    "))\n",
    "    fit_text.append(fit_group)\n",
    "\n",
    "#display(f_drop, mf_drop)\n",
    "#for group in fit_text:\n",
    "#    display(*group)\n",
    "\n",
    "def fitter(file, line, n_fits, left_reg, right_reg,fit1_a, fit1_o, fit1_w, fit2_a, fit2_o, fit2_w, fit3_a, fit3_o, fit3_w):\n",
    "    s_hdu = fits.open(file_loc+file)\n",
    "    fig = plt.figure(figsize=(10,6),dpi=125)\n",
    "    left = float(left_reg)\n",
    "    right = float(right_reg)\n",
    "\n",
    "    line_cen = float(line.split(\" \")[-1])\n",
    "    width = 10\n",
    "    lim_l = line_cen - width\n",
    "    lim_r = line_cen + width\n",
    "    \n",
    "    \n",
    "    s_data = s_hdu[1].data\n",
    "    s_flux = s_data['FLUX']\n",
    "    s_wav = s_data['WAVEL']\n",
    "    \n",
    "    wav_mask = (s_wav > lim_l) & (s_wav < lim_r)\n",
    "    s_flux = s_flux[wav_mask]\n",
    "    s_wav = s_wav[wav_mask]\n",
    "    yfit, norm, pts = c_normalize(s_flux, s_wav, median_replace=False, cheby=True, low_cut = 0.99)\n",
    "    \n",
    "    sp = pyspeckit.Spectrum(data=norm, xarr=s_wav * u.AA)\n",
    "    sp.plotter(figure = fig, xmin=lim_l, xmax=lim_r, ymin=0, ymax=1.2)\n",
    "    \n",
    "    sp.baseline.basespec = np.ones(len(s_wav))\n",
    "    n_fits = int(n_fits)\n",
    "\n",
    "    if n_fits == 1:\n",
    "        guesses = np.array([fit1_a, line_cen+float(fit1_o), fit1_w],dtype=float)\n",
    "        print(f'{line}: ({width}, {left}, {right}, [{fit1_a}], [{fit1_o}], {fit1_w}, 0)')\n",
    "    elif n_fits == 2:\n",
    "        guesses = np.array([fit1_a, line_cen+float(fit1_o), fit1_w, \n",
    "                            fit2_a, line_cen+float(fit2_o), fit2_w])\n",
    "        print(f'{line}: ({width}, {left}, {right}, [{fit1_a},{fit2_a}], [{fit1_o},{fit2_o}], {fit1_w}, 0)')\n",
    "    elif n_fits == 3:\n",
    "        guesses = np.array([fit1_a, line_cen+float(fit1_o), fit1_w, \n",
    "                            fit2_a, line_cen+float(fit2_o), fit2_w, \n",
    "                            fit3_a, line_cen+float(fit3_o), fit3_w])\n",
    "        print(f'{line}: ({width}, {left}, {right}, [{fit1_a},{fit2_a},{fit3_a}], [{fit1_o},{fit2_o},{fit3_o}], {fit1_w}, 0)')\n",
    "    #leg = plt.legend()\n",
    "    #leg.set_draggable(True)\n",
    "    # Something broke here when I updated dependencies, pyspeckit uses the deprecated .draggable attribute of plt.legend\n",
    "    # I changed this in pyspeckit/spectrum/fitter at line 1370 to be the new value of .set_draggable instead\n",
    "    sp.specfit(fittype='gaussian', guesses = guesses, exclude= [0,line_cen-left, line_cen+right, line_cen+5000], show_components=True)\n",
    "    model = sp.specfit.get_model_frompars(s_wav, sp.specfit.parinfo)\n",
    "    plt.plot(s_wav,model + 1)\n",
    "    #plt.plot(s_wav,model1 + 1)\n",
    "    EQW = sp.specfit.EQW(plot=False, continuum = 1.0, continuum_as_baseline=False,xmin=0, xmax = len(norm), components=True)\n",
    "    print(\"EQW:\", np.array(EQW)*1000*u.mA)\n",
    "    plt.axhline(1, color = 'orange')\n",
    "    plt.axvline(line_cen, color='r', alpha=0.5)\n",
    "    #plt.plot(s_wav, yfit)\n",
    "    #sp.plotter.savefig('basic_plot_example_withfit.png')\n",
    "    \n",
    "\n",
    "         \n",
    "    \n",
    "out = widgets.interactive_output(fitter,{'file': f_drop, 'line': l_drop, 'n_fits': mf_drop, 'left_reg': left_reg, \n",
    "                                         'right_reg': right_reg,\n",
    "                                         'fit1_a':fit_text[0][0], 'fit1_o':fit_text[0][1], 'fit1_w':fit_text[0][2],\n",
    "                                         'fit2_a':fit_text[1][0], 'fit2_o':fit_text[1][1], 'fit2_w':fit_text[1][2],\n",
    "                                         'fit3_a':fit_text[2][0], 'fit3_o':fit_text[2][1], 'fit3_w':fit_text[2][2]})\n",
    "\n",
    "option_hbox = widgets.HBox([f_drop, l_drop])\n",
    "fit_param_hbox = widgets.HBox([mf_drop, left_reg, right_reg])\n",
    "fit_hbox = widgets.HBox([widgets.VBox(group) for group in fit_text])\n",
    "vbox = widgets.VBox([option_hbox,out,fit_param_hbox,fit_hbox])\n"
   ]
  },
  {
   "cell_type": "code",
   "execution_count": 3,
   "metadata": {
    "scrolled": false
   },
   "outputs": [
    {
     "data": {
      "application/vnd.jupyter.widget-view+json": {
       "model_id": "7f7f96ea0ce14ad2925cfe45d17d847e",
       "version_major": 2,
       "version_minor": 0
      },
      "text/plain": [
       "VBox(children=(HBox(children=(Dropdown(description='File:', options=('11Com_2012Jan_n1_summed_wavsoln.fits', '…"
      ]
     },
     "metadata": {},
     "output_type": "display_data"
    }
   ],
   "source": [
    "vbox"
   ]
  },
  {
   "cell_type": "markdown",
   "metadata": {},
   "source": [
    "### Custom Line Profiles\n",
    "\n",
    "- C I 5052.167: (10, 0.3, 0.15, [-0.15,-0.5], [0,-0.1], 0.15, 0)\n",
    "- C I 5380.337: (10, 0.3, 0.15, [-0.3], [0], 0.15, 0) Really weak ~10 mA\n",
    "- C I 7111.47: (10, 0.3, 0.15, [-0.3], [0], 0.15, 0) Really weak ~15 mA\n",
    "- O I 6300.311: (10, 0.3, 0.4, [-0.3,-0.3], [0,0.25], 0.15, 0)\n",
    "- Na I 5148.838: (10, 0.15, 0.35, [-0.3,-0.3], [0,0.25], 0.15, 0) Crowded\n",
    "- Al I 6696.018: (10, 0.3, 0.15, [-0.3], [0], 0.15, 0) Blended but double fit seems to mix up the lines\n",
    "- Al I 8773.896: (10, 0.15, 0.15, [-0.3], [0], 0.15, 0) Blended, just fit core\n",
    "- Al I 7835.309: (10, 0.15, 0.15, [-0.3], [0], 0.15, 0) winged profile, just fit core\n",
    "- Si I 5645.611: (10, 0.3, 0.4, [-0.3,-0.1], [0,0.15], 0.15, 0)\n",
    "- Si I 6125.021: (10, 0.15, 0.15, [-0.3], [0], 0.15, 0) nearby features, fit core\n",
    "- Si I 6741.63: (10, 0.3, 0.35, [-0.3,-0.1], [0,0.15], 0.15, 0) blended, double fit\n",
    "- Ca I 5512.98: (10, 0.15, 0.15, [-0.3], [0], 0.15, 0)\n",
    "\n",
    "\n",
    "### Checked Lines\n",
    "\n",
    "C I 5052.167, C I 5380.337, C I 7111.47, C I 7113.179, O I 6300.311, O I 7775.388, O I 7774.166, O I 7771.944, Na I 6160.747, Na I 6154.225, Mg I 6319.236, Mg I 5711.088, Al I 6696.018, Al I 8773.896, Al I 6698.667, Al I 7835.309, Al I 7835.309, Al I 8772.866 (hyperfine example?), Al I 7836.134, Si I 5793.073, Si I 6244.476, Si I 5488.983, Si I 5645.611, Si I 5665.554, Si I 6721.848, Si I 6125.021, Si I 6741.63, S I 6757.153, S I 8693.93, S I 8694.62, S I 6046.0, K I 7698.974, Ca I 5512.98\n",
    "\n",
    "### Throw out candidates\n",
    "- C I 6587.61 - Too weak\n",
    "- O I 6156.76 - Too weak\n",
    "- Na I 5148.838 - Crowded\n",
    "- Mg I 6319.236 - Too closely blended? Hyperfine splitting?\n",
    "- Al I 7835.309, near a massive drop off in throughput?\n",
    "- S I 6757.153 - Too weak\n",
    "- S I 8693.93 - Local continuum messy?\n",
    "- S I 8694.62 - ^\n",
    "- S I 6052.656 - Too weak"
   ]
  },
  {
   "cell_type": "markdown",
   "metadata": {},
   "source": []
  },
  {
   "cell_type": "code",
   "execution_count": null,
   "metadata": {},
   "outputs": [],
   "source": [
    "#checkbox for solar spectrum overlay \n",
    "#O I 6300 nickel blend overtop\n",
    "# triangle profile indicates hyperfine splitting\n",
    "# stronger lines start to break down on local thermodynamic equilibrium; shape can get funny\n",
    "# telluric lines can be shown by only being visible in a single cluster\n",
    "# use dupont or M67 (BD)\n",
    "# make a plot of how many lines of each element we have"
   ]
  },
  {
   "cell_type": "code",
   "execution_count": null,
   "metadata": {},
   "outputs": [],
   "source": []
  },
  {
   "cell_type": "code",
   "execution_count": null,
   "metadata": {},
   "outputs": [],
   "source": []
  },
  {
   "cell_type": "code",
   "execution_count": null,
   "metadata": {},
   "outputs": [],
   "source": []
  },
  {
   "cell_type": "code",
   "execution_count": null,
   "metadata": {},
   "outputs": [],
   "source": []
  },
  {
   "cell_type": "code",
   "execution_count": null,
   "metadata": {},
   "outputs": [],
   "source": []
  }
 ],
 "metadata": {
  "kernelspec": {
   "display_name": "Python 3",
   "language": "python",
   "name": "python3"
  },
  "language_info": {
   "codemirror_mode": {
    "name": "ipython",
    "version": 3
   },
   "file_extension": ".py",
   "mimetype": "text/x-python",
   "name": "python",
   "nbconvert_exporter": "python",
   "pygments_lexer": "ipython3",
   "version": "3.6.8"
  }
 },
 "nbformat": 4,
 "nbformat_minor": 2
}
