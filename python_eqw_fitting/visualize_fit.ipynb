{
 "cells": [
  {
   "cell_type": "code",
   "execution_count": 4,
   "metadata": {},
   "outputs": [],
   "source": [
    "%matplotlib inline\n",
    "import pyspeckit\n",
    "import numpy as np\n",
    "from astropy import units as u\n",
    "from astropy.io import fits\n",
    "import matplotlib.pyplot as plt\n",
    "from astropy.convolution import convolve, Box1DKernel\n",
    "from c_normalize import c_normalize\n",
    "import ipywidgets as widgets\n",
    "import glob\n",
    "from IPython.display import display\n",
    "\n",
    "\n",
    "plt.style.use(\"seaborn-darkgrid\")\n",
    "\n",
    "# to get widgets to work in jupyter lab: jupyter labextension install @jupyter-widgets/jupyterlab-manager\n",
    "# need to install nodejs as well"
   ]
  },
  {
   "cell_type": "markdown",
   "metadata": {},
   "source": [
    "## Visualizing Fit Performance on the Master Line List\n",
    "With the Fe lines, fit performance was assessed in a manual fashion. With more than double the lines for the master list, it's worthwhile to come up with a more elegant solution for assessing fit performance. It will still need to be manual, but rather than looping through all of the spectra, I'd like to try building a jupyter widget that plugs into our dataset and allows for more interactive inspection of the fit"
   ]
  },
  {
   "cell_type": "code",
   "execution_count": 40,
   "metadata": {},
   "outputs": [
    {
     "data": {
      "application/vnd.jupyter.widget-view+json": {
       "model_id": "e1d086587d744be38212f6dd8d80e2fd",
       "version_major": 2,
       "version_minor": 0
      },
      "text/plain": [
       "Dropdown(description='File:', options=('col110_1134red_oned_25jan14_wavsoln.fits', 'col110_2119red_oned_26jan1…"
      ]
     },
     "metadata": {},
     "output_type": "display_data"
    },
    {
     "data": {
      "application/vnd.jupyter.widget-view+json": {
       "model_id": "54e36e4ae3bb4bde834531633f86c43e",
       "version_major": 2,
       "version_minor": 0
      },
      "text/plain": [
       "Dropdown(description='Num. fits:', options=('1', '2', '3'), value='1')"
      ]
     },
     "metadata": {},
     "output_type": "display_data"
    },
    {
     "data": {
      "application/vnd.jupyter.widget-view+json": {
       "model_id": "10384934f6bc46fe85cef581271bc4d3",
       "version_major": 2,
       "version_minor": 0
      },
      "text/plain": [
       "Text(value='-0.3', description='Amp 1:', placeholder='Type something')"
      ]
     },
     "metadata": {},
     "output_type": "display_data"
    },
    {
     "data": {
      "application/vnd.jupyter.widget-view+json": {
       "model_id": "3ef26bb93acc43f2ad141d4a40442c7d",
       "version_major": 2,
       "version_minor": 0
      },
      "text/plain": [
       "Text(value='0', description='Offset 1:', placeholder='Type something')"
      ]
     },
     "metadata": {},
     "output_type": "display_data"
    },
    {
     "data": {
      "application/vnd.jupyter.widget-view+json": {
       "model_id": "f959cbc63ca94d92bbabc3c5443bb130",
       "version_major": 2,
       "version_minor": 0
      },
      "text/plain": [
       "Text(value='0.15', description='Width 1:', placeholder='Type something')"
      ]
     },
     "metadata": {},
     "output_type": "display_data"
    }
   ],
   "source": [
    "# Widgets\n",
    "files = glob.glob(\"../pydata/ew_known/inputs/*wavsoln.fits\")\n",
    "files = [file.split(\"/\")[-1]for file in files]\n",
    "\n",
    "f_drop = widgets.Dropdown(\n",
    "    options=files,\n",
    "    value='col110_1134red_oned_25jan14_wavsoln.fits',\n",
    "    description='File:',\n",
    "    disabled=False,\n",
    ")\n",
    "\n",
    "mf_drop = widgets.Dropdown(\n",
    "    options=['1','2','3'],\n",
    "    value='1',\n",
    "    description='Num. fits:',\n",
    "    disabled=False,\n",
    ")\n",
    "fit_text = []\n",
    "for i in range(int(mf_drop.value)):\n",
    "    fit_group = []\n",
    "    fit_group.append(widgets.Text(\n",
    "    value='-0.3',\n",
    "    placeholder='Type something',\n",
    "    description=f'Amp {i+1}:',\n",
    "    disabled=False\n",
    "))\n",
    "    \n",
    "    fit_group.append(widgets.Text(\n",
    "    value='0',\n",
    "    placeholder='Type something',\n",
    "    description=f'Offset {i+1}:',\n",
    "    disabled=False\n",
    "))\n",
    "\n",
    "    \n",
    "    fit_group.append(widgets.Text(\n",
    "    value='0.15',\n",
    "    placeholder='Type something',\n",
    "    description=f'Width {i+1}:',\n",
    "    disabled=False\n",
    "))\n",
    "    fit_text.append(fit_group)\n",
    "\n",
    "\n",
    "display(f_drop, mf_drop)\n",
    "for group in fit_text:\n",
    "    display(*group)"
   ]
  },
  {
   "cell_type": "code",
   "execution_count": null,
   "metadata": {},
   "outputs": [],
   "source": []
  },
  {
   "cell_type": "code",
   "execution_count": null,
   "metadata": {},
   "outputs": [],
   "source": []
  }
 ],
 "metadata": {
  "kernelspec": {
   "display_name": "Python 3",
   "language": "python",
   "name": "python3"
  },
  "language_info": {
   "codemirror_mode": {
    "name": "ipython",
    "version": 3
   },
   "file_extension": ".py",
   "mimetype": "text/x-python",
   "name": "python",
   "nbconvert_exporter": "python",
   "pygments_lexer": "ipython3",
   "version": "3.6.8"
  }
 },
 "nbformat": 4,
 "nbformat_minor": 2
}
