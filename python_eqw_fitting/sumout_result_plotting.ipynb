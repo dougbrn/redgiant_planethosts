{
 "cells": [
  {
   "cell_type": "code",
   "execution_count": 7,
   "metadata": {},
   "outputs": [],
   "source": [
    "%matplotlib inline\n",
    "import pandas as pd\n",
    "import numpy as np\n",
    "import matplotlib.pyplot as plt\n",
    "import glob\n",
    "\n",
    "plt.style.use(\"seaborn-darkgrid\")"
   ]
  },
  {
   "cell_type": "code",
   "execution_count": 6,
   "metadata": {},
   "outputs": [
    {
     "name": "stdout",
     "output_type": "stream",
     "text": [
      "['../pydata/sumout_files/BD+12_1917.sumout', '../pydata/sumout_files/BD+12_1926.sumout']\n"
     ]
    }
   ],
   "source": [
    "# setup path to sumout files\n",
    "sumout_path = \"../pydata/sumout_files/\"\n",
    "sumout_files = glob.glob(sumout_path+\"*.sumout\")\n",
    "print(sumout_files)"
   ]
  },
  {
   "cell_type": "code",
   "execution_count": 161,
   "metadata": {},
   "outputs": [],
   "source": [
    "# read the sumout file into a pandas dataframe\n",
    "# this is tricky as the sumout files are subdivided into individual tables for each species\n",
    "\n",
    "with open(sumout_files[0]) as sumout_file:\n",
    "    species_dict = {}\n",
    "    lines = sumout_file.readlines()\n",
    "    stellar_info = lines[0:3]\n",
    "    lines = lines[4:]\n",
    "    #mask out some lines that aren't needed\n",
    "    mask_list = [\"E.P.\", \"R.W.\", \"wavelength trends\", \"wav. correl.\", \"average abundance\"]\n",
    "    line_mask = [not any(x in line for x in mask_list) for line in lines]\n",
    "    masked_lines = np.array(lines)[line_mask]\n",
    "    \n",
    "    #find the gaps between species tables\n",
    "    species_gaps = np.where(masked_lines=='\\n')[0]\n",
    "    for idx,gap in enumerate(species_gaps):\n",
    "        if idx == 0:\n",
    "            last_gap = 0\n",
    "        else:\n",
    "            last_gap = species_gaps[idx-1]\n",
    "        species_lines = masked_lines[last_gap:gap]\n",
    "        \n",
    "        if species_lines[0] == \"\\n\":\n",
    "            species_lines = species_lines[1:]\n",
    "            \n",
    "        species = species_lines[0][30:35].replace(' ','')\n",
    "        input_abund = species_lines[0][-7:-2]\n",
    "        \n",
    "        # read this to a tmp file\n",
    "        with open(\"tmp.txt\", \"w\") as out:\n",
    "            for line in species_lines:\n",
    "                if line[0:2] == \"  \":\n",
    "                    out.write(line[2:])\n",
    "                else:\n",
    "                    out.write(line)\n",
    "        # read the tmp file out to a pandas dataframe\n",
    "        df = pd.read_csv(\"tmp.txt\", delim_whitespace=True,skiprows=1)\n",
    "        species_dict[species] = (input_abund, df)\n",
    "            \n",
    "     "
   ]
  },
  {
   "cell_type": "code",
   "execution_count": null,
   "metadata": {},
   "outputs": [],
   "source": []
  },
  {
   "cell_type": "code",
   "execution_count": null,
   "metadata": {},
   "outputs": [],
   "source": []
  },
  {
   "cell_type": "code",
   "execution_count": null,
   "metadata": {},
   "outputs": [],
   "source": []
  },
  {
   "cell_type": "code",
   "execution_count": null,
   "metadata": {},
   "outputs": [],
   "source": []
  }
 ],
 "metadata": {
  "kernelspec": {
   "display_name": "Python 3",
   "language": "python",
   "name": "python3"
  },
  "language_info": {
   "codemirror_mode": {
    "name": "ipython",
    "version": 3
   },
   "file_extension": ".py",
   "mimetype": "text/x-python",
   "name": "python",
   "nbconvert_exporter": "python",
   "pygments_lexer": "ipython3",
   "version": "3.7.3"
  }
 },
 "nbformat": 4,
 "nbformat_minor": 4
}
