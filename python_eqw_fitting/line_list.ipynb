{
 "cells": [
  {
   "cell_type": "code",
   "execution_count": 2,
   "metadata": {},
   "outputs": [],
   "source": [
    "import pandas as pd\n",
    "import os"
   ]
  },
  {
   "cell_type": "code",
   "execution_count": 3,
   "metadata": {},
   "outputs": [],
   "source": [
    "line_list_dir = \"/user/jcarlberg/research/stell_param_deriv/metal_line_list/\"\n",
    "\n",
    "list1 = \"jkc_thesis_metal_ll.txt\"\n",
    "list2 = \"melendez2014_table1_noFe.txt\""
   ]
  },
  {
   "cell_type": "code",
   "execution_count": 56,
   "metadata": {},
   "outputs": [],
   "source": [
    "line_list1 = pd.read_csv(os.path.join(line_list_dir, list1), delim_whitespace=True,skiprows=1, usecols = [0,1,2,3],names=[\"Wavelength\", \"Ion\", \"EP\", \"Log_gf\"])\n",
    "species_list1 = pd.read_csv(os.path.join(line_list_dir, list1), delimiter='#',skiprows=1, usecols = [1],header=None)\n",
    "\n",
    "line_list2 = pd.read_csv(os.path.join(line_list_dir, list2),delim_whitespace=True, skiprows=25,header=None, usecols=[0,1,2,3],names=[\"Wavelength\", \"Ion\", \"EP\", \"Log_gf\"])"
   ]
  },
  {
   "cell_type": "code",
   "execution_count": 98,
   "metadata": {},
   "outputs": [
    {
     "data": {
      "text/plain": [
       "70"
      ]
     },
     "execution_count": 98,
     "metadata": {},
     "output_type": "execute_result"
    }
   ],
   "source": [
    "frames=[line_list1, line_list2]\n",
    "master_line_list = pd.concat(frames).drop_duplicates(subset=\"Wavelength\").sort_values(\"Wavelength\")\n",
    "\n",
    "ion_list = ['I',\"II\",'III','IV','V','VI']\n",
    "species_list = [\"H\",\"He\", \"Li\",'Be','B','C','N','O','F','Ne',\n",
    "               'Na','Mg','Al','Si','P','S','Cl','Ar','K','Ca',\n",
    "               'Sc','Ti','V','Cr','Mn','Fe','Co','Ni','Cu',\n",
    "               'Zn','Ga','Ge','As','Se','Br','Kr','Rb','Sr','Y',\n",
    "               'Zr','Nb','Mo','Tc','Ru','Rh','Pd','Ag','Cd','In',\n",
    "               'Sn','Sb','Te','I','Xe','Cs','Ba','La','Ce','Pr',\n",
    "               'Nd','Pm','Sm','Eu', 'Gd','Tb','Dy','Ho','Er','Tm',\n",
    "               'Yb']\n",
    "len(species_list)"
   ]
  },
  {
   "cell_type": "code",
   "execution_count": 111,
   "metadata": {},
   "outputs": [],
   "source": [
    "#species = [species_list[int(str(ion).split('.')[0])-1]+' '+ ion_list[int(str(ion).split('.')[1])-1] for ion in list(master_line_list.sort_values(\"Ion\")['Ion'])]\n",
    "master_line_list['Species'] = [species_list[int(str(ion).split('.')[0])-1]+' '+ ion_list[int(str(ion).split('.')[1])-1] for ion in list(master_line_list['Ion'])]\n"
   ]
  },
  {
   "cell_type": "code",
   "execution_count": 113,
   "metadata": {},
   "outputs": [],
   "source": [
    "master_line_list.sort_values('Ion').to_csv(\"master_line_list.csv\",index=False)\n"
   ]
  },
  {
   "cell_type": "code",
   "execution_count": null,
   "metadata": {},
   "outputs": [],
   "source": []
  }
 ],
 "metadata": {
  "kernelspec": {
   "display_name": "Python 3",
   "language": "python",
   "name": "python3"
  },
  "language_info": {
   "codemirror_mode": {
    "name": "ipython",
    "version": 3
   },
   "file_extension": ".py",
   "mimetype": "text/x-python",
   "name": "python",
   "nbconvert_exporter": "python",
   "pygments_lexer": "ipython3",
   "version": "3.6.8"
  }
 },
 "nbformat": 4,
 "nbformat_minor": 2
}
