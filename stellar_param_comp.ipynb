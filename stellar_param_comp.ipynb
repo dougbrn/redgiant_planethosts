{
 "cells": [
  {
   "cell_type": "code",
   "execution_count": 35,
   "metadata": {},
   "outputs": [],
   "source": [
    "%matplotlib inline\n",
    "import numpy as np\n",
    "import matplotlib.pyplot as plt\n",
    "import glob\n",
    "import pandas as pd"
   ]
  },
  {
   "cell_type": "code",
   "execution_count": 34,
   "metadata": {},
   "outputs": [
    {
     "name": "stdout",
     "output_type": "stream",
     "text": [
      "['STAR', 'COMP', 'ORBREF', 'ORBURL', 'RA', 'FIRSTREF', 'FIRSTURL', 'DEC', 'MSTAR', 'MSTARUPPER', 'MSTARLOWER', 'UMSTAR', 'RSTAR', 'RSTARUPPER', 'RSTARLOWER', 'URSTAR', 'DIST', 'DISTUPPER', 'DISTLOWER', 'UDIST', 'TEFF', 'TEFFUPPER', 'TEFFLOWER', 'UTEFF', 'LOGG', 'LOGGUPPER', 'LOGGLOWER', 'ULOGG', 'FE', 'FEUPPER', 'FELOWER', 'UFE']\n"
     ]
    }
   ],
   "source": [
    "# Read in Exoplanet Database csv\n",
    "exo_df = pd.read_csv(\"pydata/exoplanet_database.csv\", skiprows=[1])\n",
    "print(list(exo_df.columns))"
   ]
  },
  {
   "cell_type": "code",
   "execution_count": 144,
   "metadata": {},
   "outputs": [],
   "source": [
    "# Collect list of stellar parameter files\n",
    "stellar_param_files = glob.glob(\"pydata/sumout_files/*\")"
   ]
  },
  {
   "cell_type": "code",
   "execution_count": 210,
   "metadata": {},
   "outputs": [],
   "source": [
    "# Generate Stellar Parameter DataFrame\n",
    "stellar_param_dict = {}\n",
    "files = [\"pydata/sumout_files/11Com_2012.m.sumout\"]\n",
    "for file in stellar_param_files:\n",
    "    with open(file,'r') as f:\n",
    "        for i, line in enumerate(f):\n",
    "            if i == 0:\n",
    "                star = f.readline().split(\" \")[0].split(\"_\")[0]\n",
    "                #print(star)\n",
    "                params = [elem for elem in f.readline().split(\" \") if elem != '']\n",
    "                #print(params)\n",
    "                metallicity = params[-2]\n",
    "                if '-' in metallicity:\n",
    "                    metallicity = metallicity[4:]\n",
    "                file_dict = {'Teff': float(params[2]), 'Log_g':float(params[6]), 'M/H':float(metallicity)}\n",
    "                #print(file_dict)\n",
    "                stellar_param_dict[star] = file_dict\n",
    "                \n",
    "param_df = pd.DataFrame.from_dict(stellar_param_dict, orient='index')"
   ]
  },
  {
   "cell_type": "code",
   "execution_count": 211,
   "metadata": {},
   "outputs": [],
   "source": [
    "# Cross Reference the two Dataframes, generate a comparison Dataframe\n",
    "\n",
    "cross_ref_dict = {}\n",
    "for row in param_df.iterrows():\n",
    "    logg, teff, metal = row[1][:]\n",
    "    exo_df_subset = [s for s in list(exo_df['STAR']) if row[0].lower() in s.replace(' ','').lower()]\n",
    "    if len(exo_df_subset) == 0:\n",
    "        continue\n",
    "    exo_match = exo_df[exo_df['STAR'] == exo_df_subset[0]]\n",
    "    exo_match = exo_match.head(1) # If there's multiple planets multiple matchs will happen, just take the first one\n",
    "\n",
    "    delta_teff = abs(teff - float(exo_match['TEFF']))\n",
    "    delta_logg = abs(logg - float(exo_match['LOGG']))\n",
    "    delta_metal = abs(metal - float(exo_match['FE']))\n",
    "    match_dict = {'DELTATEFF': delta_teff, 'DELTALOGG':delta_logg, 'DELTAFE':delta_metal,\n",
    "                 'UTEFF': float(exo_match['UTEFF']), 'ULOGG': float(exo_match['ULOGG']), 'UFE': float(exo_match['UFE'])}\n",
    "    cross_ref_dict[row[0]] = match_dict\n",
    "\n",
    "cross_ref_df = pd.DataFrame.from_dict(cross_ref_dict, orient='index')"
   ]
  },
  {
   "cell_type": "code",
   "execution_count": null,
   "metadata": {},
   "outputs": [],
   "source": []
  },
  {
   "cell_type": "code",
   "execution_count": null,
   "metadata": {},
   "outputs": [],
   "source": []
  },
  {
   "cell_type": "code",
   "execution_count": null,
   "metadata": {},
   "outputs": [],
   "source": []
  },
  {
   "cell_type": "code",
   "execution_count": null,
   "metadata": {},
   "outputs": [],
   "source": []
  }
 ],
 "metadata": {
  "kernelspec": {
   "display_name": "Python 3",
   "language": "python",
   "name": "python3"
  },
  "language_info": {
   "codemirror_mode": {
    "name": "ipython",
    "version": 3
   },
   "file_extension": ".py",
   "mimetype": "text/x-python",
   "name": "python",
   "nbconvert_exporter": "python",
   "pygments_lexer": "ipython3",
   "version": "3.5.6"
  }
 },
 "nbformat": 4,
 "nbformat_minor": 2
}
