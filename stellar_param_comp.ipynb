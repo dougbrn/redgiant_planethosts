{
 "cells": [
  {
   "cell_type": "code",
   "execution_count": 35,
   "metadata": {},
   "outputs": [],
   "source": [
    "%matplotlib inline\n",
    "import numpy as np\n",
    "import matplotlib.pyplot as plt\n",
    "import glob\n",
    "import pandas as pd"
   ]
  },
  {
   "cell_type": "code",
   "execution_count": 34,
   "metadata": {},
   "outputs": [
    {
     "name": "stdout",
     "output_type": "stream",
     "text": [
      "['STAR', 'COMP', 'ORBREF', 'ORBURL', 'RA', 'FIRSTREF', 'FIRSTURL', 'DEC', 'MSTAR', 'MSTARUPPER', 'MSTARLOWER', 'UMSTAR', 'RSTAR', 'RSTARUPPER', 'RSTARLOWER', 'URSTAR', 'DIST', 'DISTUPPER', 'DISTLOWER', 'UDIST', 'TEFF', 'TEFFUPPER', 'TEFFLOWER', 'UTEFF', 'LOGG', 'LOGGUPPER', 'LOGGLOWER', 'ULOGG', 'FE', 'FEUPPER', 'FELOWER', 'UFE']\n"
     ]
    }
   ],
   "source": [
    "# Read in Exoplanet Database csv\n",
    "exo_df = pd.read_csv(\"pydata/exoplanet_database.csv\", skiprows=[1])\n",
    "print(list(exo_df.columns))"
   ]
  },
  {
   "cell_type": "code",
   "execution_count": 144,
   "metadata": {},
   "outputs": [],
   "source": [
    "# Collect list of stellar parameter files\n",
    "stellar_param_files = glob.glob(\"pydata/sumout_files/*\")"
   ]
  },
  {
   "cell_type": "code",
   "execution_count": 143,
   "metadata": {},
   "outputs": [],
   "source": [
    "# Generate Stellar Parameter DataFrame\n",
    "stellar_param_dict = {}\n",
    "files = [\"pydata/sumout_files/11Com_2012.m.sumout\"]\n",
    "for file in stellar_param_files:\n",
    "    with open(file,'r') as f:\n",
    "        for i, line in enumerate(f):\n",
    "            if i == 0:\n",
    "                star = f.readline().split(\" \")[0].split(\"_\")[0]\n",
    "                #print(star)\n",
    "                params = [elem for elem in f.readline().split(\" \") if elem != '']\n",
    "                #print(params)\n",
    "                metallicity = params[-2]\n",
    "                if '-' in metallicity:\n",
    "                    metallicity = metallicity[4:]\n",
    "                file_dict = {'Teff': float(params[2]), 'Log_g':float(params[6]), 'M/H':float(metallicity)}\n",
    "                #print(file_dict)\n",
    "                stellar_param_dict[star] = file_dict\n",
    "                \n",
    "param_df = pd.DataFrame.from_dict(stellar_param_dict, orient='index')"
   ]
  },
  {
   "cell_type": "code",
   "execution_count": 54,
   "metadata": {},
   "outputs": [
    {
     "data": {
      "text/html": [
       "<div>\n",
       "<style>\n",
       "    .dataframe thead tr:only-child th {\n",
       "        text-align: right;\n",
       "    }\n",
       "\n",
       "    .dataframe thead th {\n",
       "        text-align: left;\n",
       "    }\n",
       "\n",
       "    .dataframe tbody tr th {\n",
       "        vertical-align: top;\n",
       "    }\n",
       "</style>\n",
       "<table border=\"1\" class=\"dataframe\">\n",
       "  <thead>\n",
       "    <tr style=\"text-align: right;\">\n",
       "      <th></th>\n",
       "      <th>STAR</th>\n",
       "      <th>COMP</th>\n",
       "      <th>ORBREF</th>\n",
       "      <th>ORBURL</th>\n",
       "      <th>RA</th>\n",
       "      <th>FIRSTREF</th>\n",
       "      <th>FIRSTURL</th>\n",
       "      <th>DEC</th>\n",
       "      <th>MSTAR</th>\n",
       "      <th>MSTARUPPER</th>\n",
       "      <th>...</th>\n",
       "      <th>TEFFLOWER</th>\n",
       "      <th>UTEFF</th>\n",
       "      <th>LOGG</th>\n",
       "      <th>LOGGUPPER</th>\n",
       "      <th>LOGGLOWER</th>\n",
       "      <th>ULOGG</th>\n",
       "      <th>FE</th>\n",
       "      <th>FEUPPER</th>\n",
       "      <th>FELOWER</th>\n",
       "      <th>UFE</th>\n",
       "    </tr>\n",
       "  </thead>\n",
       "  <tbody>\n",
       "    <tr>\n",
       "      <th>2707</th>\n",
       "      <td>11 Com</td>\n",
       "      <td>b</td>\n",
       "      <td>Liu 2008</td>\n",
       "      <td>http://adsabs.harvard.edu/abs/2008ApJ...672..553L</td>\n",
       "      <td>12.345304</td>\n",
       "      <td>Liu 2008</td>\n",
       "      <td>http://adsabs.harvard.edu/abs/2008ApJ...672..553L</td>\n",
       "      <td>17.792653</td>\n",
       "      <td>2.04</td>\n",
       "      <td>0.29</td>\n",
       "      <td>...</td>\n",
       "      <td>79.0</td>\n",
       "      <td>79.0</td>\n",
       "      <td>2.61</td>\n",
       "      <td>0.13</td>\n",
       "      <td>0.13</td>\n",
       "      <td>0.13</td>\n",
       "      <td>-0.34</td>\n",
       "      <td>0.06</td>\n",
       "      <td>0.06</td>\n",
       "      <td>0.06</td>\n",
       "    </tr>\n",
       "  </tbody>\n",
       "</table>\n",
       "<p>1 rows × 32 columns</p>\n",
       "</div>"
      ],
      "text/plain": [
       "        STAR COMP    ORBREF  \\\n",
       "2707  11 Com    b  Liu 2008   \n",
       "\n",
       "                                                 ORBURL         RA  FIRSTREF  \\\n",
       "2707  http://adsabs.harvard.edu/abs/2008ApJ...672..553L  12.345304  Liu 2008   \n",
       "\n",
       "                                               FIRSTURL        DEC  MSTAR  \\\n",
       "2707  http://adsabs.harvard.edu/abs/2008ApJ...672..553L  17.792653   2.04   \n",
       "\n",
       "      MSTARUPPER  ...   TEFFLOWER  UTEFF  LOGG  LOGGUPPER  LOGGLOWER  ULOGG  \\\n",
       "2707        0.29  ...        79.0   79.0  2.61       0.13       0.13   0.13   \n",
       "\n",
       "        FE  FEUPPER  FELOWER   UFE  \n",
       "2707 -0.34     0.06     0.06  0.06  \n",
       "\n",
       "[1 rows x 32 columns]"
      ]
     },
     "execution_count": 54,
     "metadata": {},
     "output_type": "execute_result"
    }
   ],
   "source": [
    "subset = [s for s in list(exo_df['STAR']) if \"Com\" in s]\n",
    "exo_df[exo_df['STAR'] == '11 Com']"
   ]
  },
  {
   "cell_type": "code",
   "execution_count": null,
   "metadata": {},
   "outputs": [],
   "source": []
  }
 ],
 "metadata": {
  "kernelspec": {
   "display_name": "Python 3",
   "language": "python",
   "name": "python3"
  },
  "language_info": {
   "codemirror_mode": {
    "name": "ipython",
    "version": 3
   },
   "file_extension": ".py",
   "mimetype": "text/x-python",
   "name": "python",
   "nbconvert_exporter": "python",
   "pygments_lexer": "ipython3",
   "version": "3.5.6"
  }
 },
 "nbformat": 4,
 "nbformat_minor": 2
}
