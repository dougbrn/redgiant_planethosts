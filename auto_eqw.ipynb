{
 "cells": [
  {
   "cell_type": "code",
   "execution_count": 1,
   "metadata": {},
   "outputs": [],
   "source": [
    "%matplotlib inline\n",
    "import pyspeckit\n",
    "import numpy as np\n",
    "from astropy import units as u\n",
    "from astropy.io import fits\n",
    "import matplotlib.pyplot as plt\n",
    "from astropy.convolution import convolve, Box1DKernel\n",
    "from c_normalize import c_normalize"
   ]
  },
  {
   "cell_type": "markdown",
   "metadata": {},
   "source": [
    "# Python-based Automation of Equivalent Width Measurement\n",
    "Utilizing pyspeckit (https://pyspeckit.readthedocs.io/en/latest/) and a python port of Joleen Carlberg's (STScI) Continuum Normalization algorithm, this notebook seeks to set up and test an automated equivalent width measurement algorithm for a number of spectrum for which we have hand measurements. The expectations for this method are that 95% of the measurements are within 5% of our by-hand measurements."
   ]
  },
  {
   "cell_type": "markdown",
   "metadata": {},
   "source": [
    "### An Example\n",
    "Before diving straight into scripting, it's useful to layout an individual example of the equivalent width measurement process."
   ]
  },
  {
   "cell_type": "code",
   "execution_count": null,
   "metadata": {},
   "outputs": [],
   "source": [
    "s_hdu = fits.open(\"Data/ew_known/tame_inputs/col110_1134red_oned_25jan14_wavsoln.fits\")\n",
    "fig = plt.figure(figsize=(15,10))\n",
    "\n",
    "line_cen = 5307.36\n",
    "width = 10\n",
    "lim_l = line_cen - width\n",
    "lim_r = line_cen + width\n",
    "\n",
    "\n",
    "s_data = s_hdu[1].data\n",
    "s_flux = s_data['FLUX']\n",
    "smoothed_flux = convolve(s_flux, Box1DKernel(5))\n",
    "s_flux = smoothed_flux\n",
    "s_wav = s_data['WAVEL']\n",
    "\n",
    "wav_mask = (s_wav > lim_l) & (s_wav < lim_r)\n",
    "s_flux = s_flux[wav_mask]\n",
    "s_wav = s_wav[wav_mask]\n",
    "yfit, norm, pts = c_normalize(s_flux, s_wav, median_replace=False, cheby=True, low_cut = 0.9)\n",
    "\n",
    "sp = pyspeckit.Spectrum(data=norm, xarr=s_wav * u.AA)\n",
    "sp.plotter(figure = fig, xmin=lim_l, xmax=lim_r, ymin=0, ymax=1.2)\n",
    "\n",
    "#Get around pyspeckits reliance on a generated baseline and just generate basespec as a ones array (continuum is always one in normalized case)\n",
    "sp.baseline.basespec = np.ones(len(s_wav))\n",
    "sp.specfit(fittype='gaussian', guesses = [0.1, 5307.36, 0.1])\n",
    "EQW = sp.specfit.EQW(plot=True, continuum_as_baseline=True)\n",
    "print(\"EQW:\", EQW*1000*u.mA)\n",
    "plt.axhline(1, color = 'orange')\n",
    "#sp.plotter.savefig('basic_plot_example_withfit.png')"
   ]
  }
 ],
 "metadata": {
  "kernelspec": {
   "display_name": "Python 3",
   "language": "python",
   "name": "python3"
  },
  "language_info": {
   "codemirror_mode": {
    "name": "ipython",
    "version": 3
   },
   "file_extension": ".py",
   "mimetype": "text/x-python",
   "name": "python",
   "nbconvert_exporter": "python",
   "pygments_lexer": "ipython3",
   "version": "3.5.6"
  }
 },
 "nbformat": 4,
 "nbformat_minor": 2
}
